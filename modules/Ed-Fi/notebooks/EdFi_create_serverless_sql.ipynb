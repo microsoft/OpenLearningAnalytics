{
  "metadata": {
    "saveOutput": true,
    "language_info": {
      "name": "python"
    }
  },
  "nbformat": 4,
  "nbformat_minor": 2,
  "cells": [
    {
      "cell_type": "code",
      "execution_count": null,
      "outputs": [],
      "metadata": {
        "outputCollapsed": true,
        "diagram": {
          "activateDiagramType": 1,
          "chartConfig": {
            "category": "bar",
            "keys": [
              "AssessmentIdentifier"
            ],
            "values": [
              "AssessmentCategoryDescriptorId"
            ],
            "yLabel": "AssessmentCategoryDescriptorId",
            "xLabel": "AssessmentIdentifier",
            "aggregation": "SUM",
            "aggByBackend": false
          },
          "aggData": "{\"AssessmentCategoryDescriptorId\":{\"01774fa3-06f1-47fe-8801-c8b1e65057f2\":134,\"19bcfe00-9c75-4d4f-ac2c-706e7479070f\":134,\"1a6a5d20-4758-4f45-848d-59f3f03ae425\":134,\"39576404-04d2-4c06-a0e7-e2cb27968d01\":134,\"3e0e2cac-847b-4ddd-93ec-925826552447\":134,\"97e16cba-5fb0-438b-be0e-7f7fb6b591dc\":134,\"ACT Composite\":112,\"ACT English\":112,\"ACT Reading\":112,\"ACT Science\":112}}",
          "isSummary": false,
          "previewData": {
            "filter": null
          },
          "isSql": false
        }
      },
      "source": [
        "%%pyspark\r\n",
        "df = spark.read.load('abfss://test-env@steduanalyticscisd3b.dfs.core.windows.net/stage1/ed-fi/Assessment/data_d46f3789-8c9b-4b45-8a53-f1c266789fdf_bc1f569d-c4da-4ea4-ac06-5d833e34ecd0.parquet', format='parquet')\r\n",
        "display(df.limit(10))"
      ]
    },
    {
      "cell_type": "code",
      "execution_count": null,
      "outputs": [],
      "metadata": {},
      "source": [
        "storage_account = 'steduanalyticscisd3b'\n",
        "use_test_env = True"
      ]
    },
    {
      "cell_type": "code",
      "execution_count": null,
      "outputs": [],
      "metadata": {},
      "source": [
        "if use_test_env:\n",
        "    stage1 = 'abfss://test-env@' + storage_account + '.dfs.core.windows.net/stage1'\n",
        "    stage2 = 'abfss://test-env@' + storage_account + '.dfs.core.windows.net/stage2'\n",
        "    stage3 = 'abfss://test-env@' + storage_account + '.dfs.core.windows.net/stage3'\n",
        "else:\n",
        "    stage1 = 'abfss://stage1@' + storage_account + '.dfs.core.windows.net'\n",
        "    stage2 = 'abfss://stage2@' + storage_account + '.dfs.core.windows.net'\n",
        "    stage3 = 'abfss://stage3@' + storage_account + '.dfs.core.windows.net'"
      ]
    },
    {
      "cell_type": "code",
      "execution_count": null,
      "outputs": [],
      "metadata": {},
      "source": [
        "# Create spark db to allow for access to the data in the delta-lake via SQL on-demand.\n",
        "# This is only creating metadata for SQL on-demand, pointing to the data in the delta-lake.\n",
        "# This also makes it possible to connect in Power BI via the azure sql data source connector.\n",
        "def create_spark_db(db_name, source_path, tables):\n",
        "    spark.sql('CREATE DATABASE IF NOT EXISTS ' + db_name)\n",
        "    for table in tables:\n",
        "        spark.sql(\"create table if not exists \" + db_name + \".\" + table.table_name + \" using PARQUET location '\" + source_path + \"/\" + table.table_name + \"'\")\n",
        "\n",
        "df = spark.read.format('parquet').load(stage2 + '/ed-fi/sys.tables')\n",
        "tables = df.rdd.collect()\n",
        "create_spark_db('s2_edfi', stage2 + '/ed-fi', tables)"
      ]
    }
  ]
}